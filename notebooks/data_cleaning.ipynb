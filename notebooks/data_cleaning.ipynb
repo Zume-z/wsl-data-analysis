{
 "cells": [
  {
   "cell_type": "raw",
   "id": "8a69680f-a6e9-4851-ba8f-07606a54a7cf",
   "metadata": {},
   "source": [
    "Data Cleaning\n",
    "\n",
    "Removed Columns\n",
    "---------------\n",
    "    event_slug\n",
    "    heat_slug\n",
    "    heat_round\n",
    "    heat_date\n",
    "    surfer_heat_place\n",
    "    surfer_dob\n",
    "    surfer_heat_total\n",
    "    surfer_slug\n",
    "\n",
    "Filtered Rows\n",
    "---------------\n",
    "    heats from surf_ranch\n",
    "\n",
    "Convert\n",
    "---------------\n",
    "    surfer_count => hot encode\n",
    "    event_s_date => date\n",
    "    surfer_won => int\n",
    "\n",
    "Imputate\n",
    "---------------\n",
    "    frontside => int\n",
    "    surfer_home_country => int\n"
   ]
  },
  {
   "cell_type": "code",
   "execution_count": null,
   "id": "b7ff5e54-a289-47b7-8bd1-56d5fc2d32f7",
   "metadata": {},
   "outputs": [],
   "source": [
    "import pandas as pd\n",
    "import numpy as np\n",
    "pd.set_option('display.max_rows', None)"
   ]
  },
  {
   "cell_type": "code",
   "execution_count": null,
   "id": "7f96685e-bc02-4672-a316-c683afe28be4",
   "metadata": {},
   "outputs": [],
   "source": [
    "# Import data\n",
    "df = pd.read_csv('../data/raw_2012_2024.csv', dtype={5: str, 7: str, 9: str})"
   ]
  },
  {
   "cell_type": "code",
   "execution_count": null,
   "id": "a2f48a81-3021-4664-bd8b-341946816179",
   "metadata": {},
   "outputs": [],
   "source": [
    "# Surfer Prefixs\n",
    "sufer_prefixs = ['surfer_', 'op1_', 'op2_']"
   ]
  },
  {
   "cell_type": "code",
   "execution_count": null,
   "id": "16cf55c6-bd0a-4091-8685-63736cdba9da",
   "metadata": {},
   "outputs": [],
   "source": [
    "# Drop Surf Ranch Heats\n",
    "mask_surf_ranch = df['event_slug'].str.contains('surf-ranch')\n",
    "df = df[~mask_surf_ranch]"
   ]
  },
  {
   "cell_type": "code",
   "execution_count": null,
   "id": "2f2c92b5-f7e6-4c79-9339-dd95c5c2120a",
   "metadata": {},
   "outputs": [],
   "source": [
    "# Drop Heat Values\n",
    "drop_heat = ['heat_round', 'heat_slug', 'event_slug', 'surfer_heat_place']\n",
    "df = df.drop(drop_heat, axis=1)"
   ]
  },
  {
   "cell_type": "code",
   "execution_count": null,
   "id": "8e227ab7-9157-4048-99e8-ae11cbecce01",
   "metadata": {},
   "outputs": [],
   "source": [
    "# Drop Surfer Values\n",
    "drop_surfer = ['dob', 'heat_total', 'slug']\n",
    "\n",
    "for prefix in sufer_prefixs:\n",
    "    for col in drop_surfer:\n",
    "        df = df.drop(prefix + col, axis=1)"
   ]
  },
  {
   "cell_type": "code",
   "execution_count": null,
   "id": "d9176367-4ca6-4b23-901e-a51dce7e5a4e",
   "metadata": {},
   "outputs": [],
   "source": [
    "# Split surfer count into dummy cols\n",
    "df['surfer_count'] = df['surfer_count'].astype(str)\n",
    "df_sc_dummies = pd.get_dummies(df['surfer_count'], prefix='surfer_count')\n",
    "\n",
    "df = df.join(df_sc_dummies)\n",
    "df = df.drop('surfer_count', axis=1)"
   ]
  },
  {
   "cell_type": "code",
   "execution_count": null,
   "id": "cf17fac4-a089-4ef7-83d8-394197e4dfc0",
   "metadata": {},
   "outputs": [],
   "source": [
    "# Convert surfer one from boolean to int\n",
    "df['surfer_won'] = df['surfer_won'].astype(int)"
   ]
  },
  {
   "cell_type": "code",
   "execution_count": null,
   "id": "40aa795a-6318-4100-a656-3928a7438e59",
   "metadata": {},
   "outputs": [],
   "source": [
    "# Convert Start Date\n",
    "df['event_s_date'] = pd.to_datetime(df['event_s_date'])\n",
    "df['month'] = df['event_s_date'].apply(lambda date: date.month)"
   ]
  },
  {
   "cell_type": "code",
   "execution_count": null,
   "id": "308ba1dd-0b6c-4677-a7e0-9494d0d571e6",
   "metadata": {},
   "outputs": [],
   "source": [
    "# Add Surfer_comp_hc: Surfer is competing in home country\n",
    "df['surfer_comp_hc'] = (df['surfer_country'] == df['event_country']).astype(int)\n",
    "df['op1_comp_hc'] = (df['op1_country'] == df['event_country']).astype(int)\n",
    "df['op2_comp_hc'] = (df['op2_country'] == df['event_country']).astype(int)"
   ]
  },
  {
   "cell_type": "code",
   "execution_count": null,
   "id": "9d720aef-ddd4-49d4-b28b-6e4fd86980eb",
   "metadata": {},
   "outputs": [],
   "source": [
    "# # Add frontside: The direction of the wave is always frontside for surfer else false\n",
    "df['surfer_frontside'] = (((df['surfer_stance'] == 'REGULAR') & (df['wave_dir'] == 'RIGHT')) | \\\n",
    "                         ((df['surfer_stance'] == 'GOOFY') & (df['wave_dir'] == 'LEFT'))).astype(int)\n",
    "\n",
    "df['op1_frontside'] = (((df['op1_stance'] == 'REGULAR') & (df['wave_dir'] == 'RIGHT')) | \\\n",
    "                         ((df['op1_stance'] == 'GOOFY') & (df['wave_dir'] == 'LEFT'))).astype(int)\n",
    "\n",
    "df['op2_frontside'] = (((df['op2_stance'] == 'REGULAR') & (df['wave_dir'] == 'RIGHT')) | \\\n",
    "                         ((df['op2_stance'] == 'GOOFY') & (df['wave_dir'] == 'LEFT'))).astype(int)"
   ]
  },
  {
   "cell_type": "code",
   "execution_count": null,
   "id": "24cd41a4-73f1-44de-8579-6d0eab8d73aa",
   "metadata": {},
   "outputs": [],
   "source": [
    "# Drop Temp Values\n",
    "drop_temp = ['heat_duration', 'wave_range', 'heat_date', 'wind_conditions', 'avg_wave_height']\n",
    "df = df.drop(drop_temp, axis=1)"
   ]
  },
  {
   "cell_type": "code",
   "execution_count": null,
   "id": "3d37dde4-40ff-40ed-b24c-3995bb6c8c56",
   "metadata": {},
   "outputs": [],
   "source": [
    "# Sort columns\n",
    "def custom_sort_key(col):\n",
    "    # Give priority to columns starting with 'op1'\n",
    "    if col.startswith('surfer_'):\n",
    "        return (1, col)\n",
    "    elif col.startswith('op1_'):\n",
    "        return (2, col)\n",
    "    elif col.startswith('op2_'):\n",
    "        return (3, col)\n",
    "    else:\n",
    "        return (0, col)\n",
    "\n",
    "sorted_columns = sorted(df.columns, key=custom_sort_key)\n",
    "df = df[sorted_columns]"
   ]
  }
 ],
 "metadata": {
  "kernelspec": {
   "display_name": "Python 3 (ipykernel)",
   "language": "python",
   "name": "python3"
  },
  "language_info": {
   "codemirror_mode": {
    "name": "ipython",
    "version": 3
   },
   "file_extension": ".py",
   "mimetype": "text/x-python",
   "name": "python",
   "nbconvert_exporter": "python",
   "pygments_lexer": "ipython3",
   "version": "3.11.5"
  }
 },
 "nbformat": 4,
 "nbformat_minor": 5
}
