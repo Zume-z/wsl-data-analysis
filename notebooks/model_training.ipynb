{
 "cells": [
  {
   "cell_type": "raw",
   "id": "edd524be-0f36-40ee-89dd-4f266fd70ade",
   "metadata": {},
   "source": [
    "Analysis\n",
    "- ANN Classification\n",
    "- Random Forest\n",
    "- XGBoost\n",
    "- Ensemble Model (Log-Loss)"
   ]
  },
  {
   "cell_type": "code",
   "execution_count": null,
   "id": "c4674c02-7f3c-446f-b58d-0b9480fd54da",
   "metadata": {},
   "outputs": [],
   "source": [
    "import pandas as pd\n",
    "import numpy as np\n",
    "import xgboost as xgb\n",
    "\n",
    "from joblib import dump\n",
    "from tensorflow.keras import Sequential\n",
    "from tensorflow.keras.layers import Dense, Dropout\n",
    "from tensorflow.keras.callbacks import EarlyStopping\n",
    "\n",
    "from sklearn.metrics import log_loss\n",
    "from sklearn.ensemble import RandomForestClassifier\n",
    "from sklearn.metrics import classification_report,confusion_matrix\n"
   ]
  },
  {
   "cell_type": "code",
   "execution_count": null,
   "id": "e8f263fd-52dd-4afe-8050-27579dabe796",
   "metadata": {},
   "outputs": [],
   "source": [
    "X_train = pd.read_csv('../data/splits/X_train.csv')\n",
    "X_test = pd.read_csv('../data/splits/X_test.csv')\n",
    "y_train = pd.read_csv('../data/splits/y_train.csv')\n",
    "y_test = pd.read_csv('../data/splits/y_test.csv')"
   ]
  },
  {
   "cell_type": "code",
   "execution_count": null,
   "id": "fe4af71d-affb-4fc0-b20b-069ae319c094",
   "metadata": {},
   "outputs": [],
   "source": [
    "df = pd.read_csv('../data/cleaned/clean_2012_2024.csv')"
   ]
  },
  {
   "cell_type": "code",
   "execution_count": null,
   "id": "286fe4d1-f2e8-42af-9b3f-3bf01cc1556a",
   "metadata": {},
   "outputs": [],
   "source": [
    "y_train = y_train.values.ravel()\n",
    "y_test = y_test.values.ravel()"
   ]
  },
  {
   "cell_type": "code",
   "execution_count": null,
   "id": "2667ac53-649e-430a-8888-7914d0cdf41a",
   "metadata": {},
   "outputs": [],
   "source": [
    "# ANN Classification\n",
    "early_stop = EarlyStopping(monitor='val_loss', mode='min', patience=15, verbose=1)\n",
    "ann_model = Sequential()\n",
    "\n",
    "ann_model.add(Dense(128, activation='relu'))\n",
    "ann_model.add(Dropout(0.5))\n",
    "ann_model.add(Dense(64, activation='relu'))\n",
    "ann_model.add(Dropout(0.5))\n",
    "ann_model.add(Dense(32, activation='relu'))\n",
    "ann_model.add(Dropout(0.5))\n",
    "ann_model.add(Dense(16, activation='relu'))\n",
    "ann_model.add(Dropout(0.5))\n",
    "ann_model.add(Dense(1, activation='sigmoid'))\n",
    "\n",
    "ann_model.compile(loss='binary_crossentropy', optimizer='adam')\n",
    "ann_model.fit(X_train, y_train, epochs=100, batch_size=16, validation_data=(X_test, y_test), callbacks=[early_stop], verbose=False)\n",
    "ann_predictions = (ann_model.predict(X_test) > 0.5).astype(\"int32\")"
   ]
  },
  {
   "cell_type": "code",
   "execution_count": null,
   "id": "4e7fca91-e982-4621-87cb-0045d313852b",
   "metadata": {},
   "outputs": [],
   "source": [
    "# Random Forest\n",
    "rf_model = RandomForestClassifier(n_estimators=750, random_state=42)\n",
    "rf_model.fit(X_train, y_train)\n",
    "rf_predictions = rf_model.predict(X_test)"
   ]
  },
  {
   "cell_type": "code",
   "execution_count": null,
   "id": "75977156-a625-44aa-add7-08949e7f6c38",
   "metadata": {},
   "outputs": [],
   "source": [
    "# XGBoost\n",
    "xgb_model = xgb.XGBClassifier(\n",
    "    objective='binary:logistic',\n",
    "    seed=42,\n",
    "    n_estimators=100,\n",
    "    max_depth=6,\n",
    "    learning_rate=0.1,\n",
    "    subsample=0.8,\n",
    "    colsample_bytree=0.8,\n",
    "    gamma=0,\n",
    "    min_child_weight=1,\n",
    "    reg_alpha=0,\n",
    "    reg_lambda=1\n",
    ")\n",
    "xgb_model.fit(X_train, y_train)\n",
    "xgb_predictions = xgb_model.predict(X_test)"
   ]
  },
  {
   "cell_type": "code",
   "execution_count": null,
   "id": "8945b807-a924-4006-8f48-1484645486d2",
   "metadata": {},
   "outputs": [],
   "source": [
    "# Log Loss Ensemble Model\n",
    "rf_probs = rf_model.predict_proba(X_test)[:, 1]\n",
    "xgb_probs = xgb_model.predict_proba(X_test)[:, 1]\n",
    "ann_probs = ann_model.predict(X_test).ravel()\n",
    "\n",
    "log_loss_rf = log_loss(y_test, rf_probs)\n",
    "log_loss_xgb = log_loss(y_test, xgb_probs)\n",
    "log_loss_ann = log_loss(y_test, ann_probs)\n",
    "\n",
    "weights = {\n",
    "    'rf': 1 / log_loss_rf,\n",
    "    'xgb': 1 / log_loss_xgb,\n",
    "    'ann': 1 / log_loss_ann\n",
    "}\n",
    "\n",
    "weights_sum = sum(weights.values())\n",
    "normalized_weights = {k: v / weights_sum for k, v in weights.items()}\n",
    "\n",
    "\n",
    "weighted_probs = (rf_probs * normalized_weights['rf'] +\n",
    "                  xgb_probs * normalized_weights['xgb'] +\n",
    "                  ann_probs * normalized_weights['ann'])\n",
    "\n",
    "log_loss_predictions = (weighted_probs >= 0.5).astype(int)"
   ]
  },
  {
   "cell_type": "code",
   "execution_count": null,
   "id": "91449f5d-f8d5-4f55-b0fd-26e183ede7ae",
   "metadata": {},
   "outputs": [],
   "source": [
    "print(\"ANN MODEL\")\n",
    "print(classification_report(y_test, ann_predictions))\n",
    "print(confusion_matrix(y_test, ann_predictions))\n",
    "\n",
    "print(\"RANDOM FOREST MODEL\")\n",
    "print(classification_report(y_test, rf_predictions))\n",
    "print(confusion_matrix(y_test, rf_predictions))\n",
    "\n",
    "print(\"XGBOOST MODEL\")\n",
    "print(classification_report(y_test, xgb_predictions))\n",
    "print(confusion_matrix(y_test, xgb_predictions))\n",
    "\n",
    "print(\"ENSEMBLE MODEL LOG-LOSS \")\n",
    "print(classification_report(y_test, log_loss_predictions))\n",
    "print(confusion_matrix(y_test, log_loss_predictions))"
   ]
  },
  {
   "cell_type": "code",
   "execution_count": null,
   "id": "0e22c6da-46d5-40ca-a8d3-77ec235b3299",
   "metadata": {},
   "outputs": [],
   "source": [
    "# Export Models\n",
    "ann_model.save('../results/models/ann_model.keras')\n",
    "xgb_model.save_model('../results/models/xgb_model.json')\n",
    "dump(rf_model, '../results/models/rf_model.joblib')"
   ]
  }
 ],
 "metadata": {
  "kernelspec": {
   "display_name": "Python 3 (ipykernel)",
   "language": "python",
   "name": "python3"
  },
  "language_info": {
   "codemirror_mode": {
    "name": "ipython",
    "version": 3
   },
   "file_extension": ".py",
   "mimetype": "text/x-python",
   "name": "python",
   "nbconvert_exporter": "python",
   "pygments_lexer": "ipython3",
   "version": "3.11.5"
  }
 },
 "nbformat": 4,
 "nbformat_minor": 5
}
